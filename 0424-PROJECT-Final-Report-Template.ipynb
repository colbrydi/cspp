{
 "cells": [
  {
   "cell_type": "markdown",
   "metadata": {},
   "source": [
    "In order to successfully complete this assignment you need to commit changes to your shared git repository on or before **11:59pm on Friday April 24**."
   ]
  },
  {
   "cell_type": "markdown",
   "metadata": {},
   "source": [
    "Final projects will be submitted as git repositories with everything that we did this semester.  This includes all of the following:\n",
    "\n",
    "- **REPORTS** folder with bi-weekly reports relating modeling methods to your research.\n",
    "- **PROJECT_PROPOSAL** Include your original proposal\n",
    "- **FINAL_REPORT.ipynb** File or folder (Basically an edited version of this document)\n",
    "- **SOFTWARE** Folder containing your software (Likely named after your software package).\n",
    "- **DOCUMENTATION** Folder containing your documentation (Likely called docs and generated using ```pdoc3```)\n",
    "- **LICENSING** A description of how the software can be used. \n",
    "- **TESTING SOFTWARE** Some level of testing software infrastructure with tests (see description below)\n",
    "- **EXAMPLE SOFTWARE** Example data and tests (Ideally in jupyter notebooks) that show how to run the code.\n",
    "    \n",
    "This document is only a guideline and options will vary based on your individual projects.  If you have a detailed question always consider reading the [Journal of OpenSource Software submission guildlines](https://joss.readthedocs.io/en/latest/submitting.html).  I do not expect student's to follow all of them, however, given equal options, choose the ones prefered by JOSS.\n",
    "\n",
    "- Make your software available in a git (GitLab, GitHub, Bitbucket, etc.)\n",
    "- When appropriate, make sure that the software complies with the [JOSS review criteria](https://joss.readthedocs.io/en/latest/review_criteria.html). In particular, your software should be full-featured, well-documented, and contain procedures (such as automated tests) for checking correctness.\n",
    "\n"
   ]
  },
  {
   "cell_type": "markdown",
   "metadata": {},
   "source": [
    "# <center> &#9989; Project Title </center>\n",
    "\n",
    "<center>By &#9989; \"Your name\"</center>"
   ]
  },
  {
   "cell_type": "markdown",
   "metadata": {},
   "source": [
    "&#9989; Replace the following with a picture that \"defines\" your project.  This could be a faculty picture, a picture of their research, something that comes out of your demonstration or some other visual representation.  \n",
    "\n",
    "<img src=\"http://simpleicon.com/wp-content/uploads/camera.png\" width=\"20%\">\n",
    "Image from: URL"
   ]
  },
  {
   "cell_type": "markdown",
   "metadata": {},
   "source": [
    "---\n",
    "# Authors\n",
    "\n",
    "Shayla Olson, Department of Political Science at Michigan State University"
   ]
  },
  {
   "cell_type": "markdown",
   "metadata": {},
   "source": [
    "---\n",
    "# Abstract\n",
    "\n",
    "This project consists of an R package that allows researchers of all levels to easily access and interact with the Correlates of State Policy Project from the Institute for Public Policy and Social Research (IPPSR) at Michigan State. The package consists of functions that allow users to access information from the codebook about the variables in the data."
   ]
  },
  {
   "cell_type": "markdown",
   "metadata": {},
   "source": [
    "----\n",
    "# Statement of Need\n",
    "\n",
    "Although this software can be used by all levels of researchers, it is ideal for students in an undergraduate social science research design/methods course. "
   ]
  },
  {
   "cell_type": "markdown",
   "metadata": {},
   "source": [
    "----\n",
    "# Installation instructions\n",
    "\n",
    "git clone https://github.com/shaylafolson/cspp\n",
    "\n",
    "make init\n",
    "\n",
    "conda activate ./envs\n",
    "\n",
    "make install\n",
    "\n",
    "make doc"
   ]
  },
  {
   "cell_type": "markdown",
   "metadata": {},
   "source": [
    "----\n",
    "# Unit Tests\n",
    "\n",
    "make test"
   ]
  },
  {
   "cell_type": "markdown",
   "metadata": {},
   "source": [
    "----\n",
    "# Example usage\n",
    "\n",
    "An example of this project's usage can be found in the git repo subdirectory \"vignettes.\""
   ]
  },
  {
   "cell_type": "markdown",
   "metadata": {},
   "source": [
    "---\n",
    "# Methodology\n",
    "\n",
    "The only main difference between my proposal and my final output is that I ended up just using R instead of trying to create a Python package and then port it over to R."
   ]
  },
  {
   "cell_type": "markdown",
   "metadata": {},
   "source": [
    "---\n",
    "# Concluding Remarks\n",
    "\n",
    "This project taught me a lot about software development. I will continue making progress on this software by expanding it to include my own data with IPPSR, the State Networks project. Eventually, I will provide a standard operating procedure to IPPSR so that policy fellows after me can eventually add all of the IPPSR data to an R package. "
   ]
  },
  {
   "cell_type": "markdown",
   "metadata": {},
   "source": [
    "----\n",
    "# Mentions\n",
    "\n",
    "Although the creation of this software was done solely by myself, I would like to mention my research team who guided me with expectations and originally collected the Correlates data: Matt Grossman (Associate Professor of Political Science) and Marty Jordan (Assistant Professor of Political Science)."
   ]
  }
 ],
 "metadata": {
  "anaconda-cloud": {},
  "kernelspec": {
   "display_name": "Python 3",
   "language": "python",
   "name": "python3"
  },
  "language_info": {
   "codemirror_mode": {
    "name": "ipython",
    "version": 3
   },
   "file_extension": ".py",
   "mimetype": "text/x-python",
   "name": "python",
   "nbconvert_exporter": "python",
   "pygments_lexer": "ipython3",
   "version": "3.7.6"
  }
 },
 "nbformat": 4,
 "nbformat_minor": 1
}
