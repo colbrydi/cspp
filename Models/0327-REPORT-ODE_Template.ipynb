{
 "cells": [
  {
   "cell_type": "markdown",
   "metadata": {},
   "source": [
    "# <center>Using Ordinary Differential Equations (ODEs) in Political Science</center>\n",
    "\n",
    "<center>by Shayla Olson</center>"
   ]
  },
  {
   "cell_type": "markdown",
   "metadata": {},
   "source": [
    "   Ordinary differential equations are not used in modern political science. Additionally, they do not seem like a useful tool for answering questions in modern political science. Ordinary differential equations allow people to study rates of change. Most often in political science we are studying relationships that predictors have to a singular, non-changing outcome. Although I can think of no applications of ODEs in broad political science, in this report, I will discuss the primary areas where I do research and the methods I use, and why ODEs would not be appropriate for answering these questions. \n",
    "\t\n",
    "   My dissertation discusses the interaction between race and religion in the United States. Particularly I examine the role of racial resentment in churches, and how churches can maintain or mitigate racial attitudes of their congregants. The first approach I take to these questions is by analyzing at sermons and religious messages by the clergy. I use a variety of text methods, including topic models, classification, and embeddings. I will evaluate the amount and types of political and racialized messaging in sermons and how this content changes based on various information about the churches. This question does not involve a rate of change in any way. Ordinary differential equations would not allow me to understand political communication within religious contexts.\n",
    "\t\n",
    "   Secondly, I test contact theory, which basically states that when individuals are exposed to people different from them, they will become more accepting of people from that different group. Contact theory has been supported and negated by multiple scholars, but I use religious service trips as a new test. I test how going on a religious service trip to a different country affects attitudes towards immigration. This question is also not a rate of change, and ordinary differential equations would not be useful. \n",
    "\t\n",
    "   Lastly, I use a variety of survey experiments that measure perceived distance between individuals. I evaluate if religious individuals feel more connected to people who share their religious identity than to those who only share their racial identity. I also test a variety of societal differences such as class, region, gender, and political party. As stated before, these questions cannot be answered well with ordinary differential equations. Additionally, I have an abundance of data available, so I would not need to run theoretical models. \n",
    "\t\n",
    "   Text analysis, field experiments, and survey experiments in political science do not involve rates of change. Although we explore relationships in data, these questions cannot be easily answered with ODEs, and often we rely on other methods that have previously been covered such as optimization, machine learning, and graph theory. "
   ]
  }
 ],
 "metadata": {
  "anaconda-cloud": {},
  "kernelspec": {
   "display_name": "Python 3",
   "language": "python",
   "name": "python3"
  },
  "language_info": {
   "codemirror_mode": {
    "name": "ipython",
    "version": 3
   },
   "file_extension": ".py",
   "mimetype": "text/x-python",
   "name": "python",
   "nbconvert_exporter": "python",
   "pygments_lexer": "ipython3",
   "version": "3.7.3"
  }
 },
 "nbformat": 4,
 "nbformat_minor": 1
}
