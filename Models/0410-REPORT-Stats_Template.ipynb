{
 "cells": [
  {
   "cell_type": "markdown",
   "metadata": {},
   "source": [
    "# <center>Using Statistical Models in Political Science</center>\n",
    "\n",
    "<center>by Shayla Olson</center>"
   ]
  },
  {
   "cell_type": "markdown",
   "metadata": {},
   "source": [
    "Statistical models are what makes up most of all quantitative political science. This report overviews some examples of quantitative studies in the field, with a heavy focus on experiments and survey data. \n",
    "\n",
    "Experiments in political science are a growing and popular field. They often take the form of field experiments, survey experiments, and natural experiments. Field experiments are often difficult but are seen as having higher external validity. For example, Gerber and Green study the effects of voter mobilization tactics <cite data-cite=\"6729717/44UQG8TJ\"></cite>. They find that door-to-door canvasing is very effective at increasing voter turnout, mail canvassing is somewhat effective, but phone canvassing is not effective at getting people to the polls. In a separate study, the same authors are joined by Larimer to find that social pressure is also a key mobilizer in voting <cite data-cite=\"6729717/9V2XQPUX\"></cite>. In this field experiment, they vary the type of message sent in mailings encouraging voting. Intrinsic satisfaction is not as effective of a prime as external pressures. Although get-out-the-vote experiments like these are quite popular, field experiments are utilized by other subfields within the discipline. For example, individuals were randomly assigned to speak Spanish at subway stations in predominately White areas in order to measure the effects of this outgroup activity on racial and immigration attitudes <cite data-cite=\"6729717/EF7G5YDM\"></cite>.\n",
    "\n",
    "Survey experiments are widely used to measure attitudinal change among groups. Respondents are sometimes asked to watch videos or read news clippings related to various topics to understand the effects of specific primes within those messages. In an experiment that I ran, I try to measure how priming individuals to think about immigrants within the context of religion and charity might change their attitudes. By using a flyer in which I vary the country of origin of immigrants, the amount of religious messages, and the nature of the charitable acts being performed, I find that religious respondents hold more exclusionary attitudes towards immigration policies after being exposed to a situation where immigrants would be coming from non-white countries. A separate study by Margolis found that exposing white Christians to liberal immigration messages results in more liberal attitudes among those exposed to that treatment <cite data-cite=\"6729717/NIKNM7EI\"></cite>.\n",
    "\n",
    "Although natural experiments are not truly randomized, they take advantage of some sort of exogenous shock to study political phenomena. One study leverages a survey of residents at various Greek islands in the Aegean Sea, and studies how proximity to Turkey (which points to the amoung of refugee influx) influences exclusionary attitudes <cite data-cite=\"6729717/QYNQ2M2N\"></cite>. Even though refugees were often just passing through the islands, the residents of islands closer to Turkey held more hostile views.\n",
    "\n",
    "Experiments show simple statistical analyses. Although much thought is given into the research design with regards to sampling, randomization, and treatments, the data can be easily analyzed through a means comparison. Ordinary least squares regression can also be views as a means comparison, which is a common approach in analyzing experiments, survey data, and many other circumstances. Recent and relevant studies to my research come from Wong. In her work, she shows that a constant religious identity does not have the same effect on political attitudes across racial groups <cite data-cite=\"6729717/GX853BPT\"></cite><cite data-cite=\"6729717/RSG9VELQ\"></cite><cite data-cite=\"6729717/Z8LYHY67\"></cite>. This study is timely as many religion scholars have not taken into account the effects of race in their studies. "
   ]
  },
  {
   "cell_type": "markdown",
   "metadata": {},
   "source": [
    "---\n",
    "# References\n",
    "\n",
    "***This bibliography and the above citations were created with ```cite2c```. The package does not easily allow for edits in the bibliography or within-text citations.***\n",
    "\n",
    "<div class=\"cite2c-biblio\"></div>"
   ]
  }
 ],
 "metadata": {
  "anaconda-cloud": {},
  "cite2c": {
   "citations": {
    "6729717/44UQG8TJ": {
     "DOI": "10.2307/2585837",
     "URL": "http://www.jstor.org.proxy1.cl.msu.edu/stable/2585837",
     "abstract": "[We report the results of a randomized field experiment involving approximately 30,000 registered voters in New Haven, Connecticut. Nonpartisan get-out-the-vote messages were conveyed through personal canvassing, direct mail, and telephone calls shortly before the November 1998 election. A variety of substantive messages were used. Voter turnout was increased substantially by personal canvassing, slightly by direct mail, and not at all by telephone calls. These findings support our hypothesis that the long-term retrenchment in voter turnout is partly attributable to the decline in face-to-face political mobilization.]",
     "archive": "JSTOR",
     "author": [
      {
       "family": "Gerber",
       "given": "Alan S."
      },
      {
       "family": "Green",
       "given": "Donald P."
      }
     ],
     "container-title": "The American Political Science Review",
     "id": "6729717/44UQG8TJ",
     "issue": "3",
     "issued": {
      "year": 2000
     },
     "page": "653-663",
     "page-first": "653",
     "title": "The Effects of Canvassing, Telephone Calls, and Direct Mail on Voter Turnout: A Field Experiment",
     "type": "article-journal",
     "volume": "94"
    },
    "6729717/9V2XQPUX": {
     "DOI": "10.1017/S000305540808009X",
     "URL": "https://www.cambridge.org/core/product/identifier/S000305540808009X/type/journal_article",
     "abstract": "Voter turnout theories based on rational self-interested behavior generally fail to predict significant turnout unless they account for the utility that citizens receive from performing their civic duty. We distinguish between two aspects of this type of utility, intrinsic satisfaction from behaving in accordance with a norm and extrinsic incentives to comply, and test the effects of priming intrinsic motives and applying varying degrees of extrinsic pressure. A large-scale field experiment involving several hundred thousand registered voters used a series of mailings to gauge these effects. Substantially higher turnout was observed among those who received mailings promising to publicize their turnout to their household or their neighbors. These findings demonstrate the profound importance of social pressure as an inducement to political participation.",
     "accessed": {
      "day": 18,
      "month": 9,
      "year": 2019
     },
     "author": [
      {
       "family": "Gerber",
       "given": "Alan S."
      },
      {
       "family": "Green",
       "given": "Donald P."
      },
      {
       "family": "Larimer",
       "given": "Christopher W."
      }
     ],
     "container-title": "American Political Science Review",
     "container-title-short": "Am Polit Sci Rev",
     "id": "6729717/9V2XQPUX",
     "issue": "1",
     "issued": {
      "year": 2008
     },
     "journalAbbreviation": "Am Polit Sci Rev",
     "language": "en",
     "page": "33-48",
     "page-first": "33",
     "shortTitle": "Social Pressure and Voter Turnout",
     "title": "Social Pressure and Voter Turnout: Evidence from a Large-Scale Field Experiment",
     "title-short": "Social Pressure and Voter Turnout",
     "type": "article-journal",
     "volume": "102"
    },
    "6729717/EF7G5YDM": {
     "DOI": "10.1073/pnas.1317670111",
     "URL": "http://www.pnas.org/lookup/doi/10.1073/pnas.1317670111",
     "abstract": "The effect of intergroup contact has long been a question central to social scientists. As political and technological changes bring increased international migration, understanding intergroup contact is increasingly important to scientific and policy debates. Unfortunately, limitations in causal inference using observational data and the practical inability to experimentally manipulate demographic diversity has limited scholars’ ability to address the effects of intergroup contact. Here, I report the results of a randomized controlled trial testing the causal effects of repeated intergroup contact, in which Spanish-speaking confederates were randomly assigned to be inserted, for a period of days, into the daily routines of unknowing Anglo-whites living in homogeneous communities in the United States, thus simulating the conditions of demographic change. The result of this experiment is a significant shift toward exclusionary attitudes among treated subjects. This experiment demonstrates that even very minor demographic change causes strong exclusionary reactions. Developed nations and politically liberal subnational units are expected to experience a politically conservative shift as international migration brings increased intergroup contact.",
     "accessed": {
      "day": 18,
      "month": 6,
      "year": 2019
     },
     "author": [
      {
       "family": "Enos",
       "given": "Ryan D."
      }
     ],
     "container-title": "Proceedings of the National Academy of Sciences",
     "container-title-short": "Proc Natl Acad Sci USA",
     "id": "6729717/EF7G5YDM",
     "issue": "10",
     "issued": {
      "day": 11,
      "month": 3,
      "year": 2014
     },
     "journalAbbreviation": "Proc Natl Acad Sci USA",
     "language": "en",
     "page": "3699-3704",
     "page-first": "3699",
     "title": "Causal effect of intergroup contact on exclusionary attitudes",
     "type": "article-journal",
     "volume": "111"
    },
    "6729717/GX853BPT": {
     "DOI": "10.1017/rep.2017.32",
     "URL": "https://www.cambridge.org/core/product/identifier/S2056608517000320/type/journal_article",
     "abstract": "Abstract\n            This paper highlights differences in evangelical identity and its association with political attitudes across racial groups. It finds that White evangelicals hold more conservative views than Black, Latinx, and Asian American evangelicals, despite similar levels of religiosity. White evangelicals' more conservative political attitudes are driven by a sense of in-group embattlement, or the idea that their group faces as much or more discrimination as persecuted outgroups. This sense of in-group embattlement is distinct from the effects of economic resources, economic anxiety, partisanship, region (South) and generalized conservative outlook. The paper draws on survey data collected in the immediate aftermath of the 2016 election.",
     "accessed": {
      "day": 3,
      "month": 11,
      "year": 2019
     },
     "author": [
      {
       "family": "Wong",
       "given": "Janelle"
      }
     ],
     "container-title": "The Journal of Race, Ethnicity, and Politics",
     "container-title-short": "J. Race Ethnicity Politics",
     "id": "6729717/GX853BPT",
     "issue": "1",
     "issued": {
      "year": 2018
     },
     "journalAbbreviation": "J. Race Ethnicity Politics",
     "language": "en",
     "page": "81-106",
     "page-first": "81",
     "title": "The Evangelical Vote and Race in the 2016 Presidential Election",
     "type": "article-journal",
     "volume": "3"
    },
    "6729717/NIKNM7EI": {
     "DOI": "10.1086/693985",
     "URL": "https://www.journals.uchicago.edu/doi/10.1086/693985",
     "accessed": {
      "day": 14,
      "month": 4,
      "year": 2019
     },
     "author": [
      {
       "family": "Margolis",
       "given": "Michele F."
      }
     ],
     "container-title": "The Journal of Politics",
     "id": "6729717/NIKNM7EI",
     "issue": "3",
     "issued": {
      "year": 2018
     },
     "language": "en",
     "page": "772-785",
     "page-first": "772",
     "shortTitle": "How Far Does Social Group Influence Reach?",
     "title": "How Far Does Social Group Influence Reach? Identities, Elites, and Immigration Attitudes",
     "title-short": "How Far Does Social Group Influence Reach?",
     "type": "article-journal",
     "volume": "80"
    },
    "6729717/QYNQ2M2N": {
     "DOI": "10.1017/S0003055418000813",
     "URL": "https://www.cambridge.org/core/product/identifier/S0003055418000813/type/journal_article",
     "abstract": "Although Europe has experienced unprecedented numbers of refugee arrivals in recent years, there exists almost no causal evidence regarding the impact of the refugee crisis on natives’ attitudes, policy preferences, and political engagement. We exploit a natural experiment in the Aegean Sea, where Greek islands close to the Turkish coast experienced a sudden and massive increase in refugee arrivals, while similar islands slightly farther away did not. Leveraging a targeted survey of 2,070 island residents and distance to Turkey as an instrument, we find that direct exposure to refugee arrivals induces sizable and lasting increases in natives’ hostility toward refugees, immigrants, and Muslim minorities; support for restrictive asylum and immigration policies; and political engagement to effect such exclusionary policies. Since refugees only passed through these islands, our findings challenge both standard economic and cultural explanations of anti-immigrant sentiment and show that mere exposure suffices in generating lasting increases in hostility.",
     "accessed": {
      "day": 18,
      "month": 6,
      "year": 2019
     },
     "author": [
      {
       "family": "Hangartner",
       "given": "Dominik"
      },
      {
       "family": "Dinas",
       "given": "Elias"
      },
      {
       "family": "Marbach",
       "given": "Moritz"
      },
      {
       "family": "Matakos",
       "given": "Konstantinos"
      },
      {
       "family": "Xefteris",
       "given": "Dimitrios"
      }
     ],
     "container-title": "American Political Science Review",
     "container-title-short": "Am Polit Sci Rev",
     "id": "6729717/QYNQ2M2N",
     "issue": "2",
     "issued": {
      "year": 2019
     },
     "journalAbbreviation": "Am Polit Sci Rev",
     "language": "en",
     "page": "442-455",
     "page-first": "442",
     "title": "Does Exposure to the Refugee Crisis Make Natives More Hostile?",
     "type": "article-journal",
     "volume": "113"
    },
    "6729717/RSG9VELQ": {
     "DOI": "10.1017/S1755048315000759",
     "URL": "https://www.cambridge.org/core/journals/politics-and-religion/article/role-of-bornagain-identity-on-the-political-attitudes-of-whites-blacks-latinos-and-asian-americans/84C8A11BD355FC23B932C0B8323142F4",
     "abstract": "Together, Asian American and Latino evangelicals constitute about 13% of all evangelicals in the United States. This proportion is surely going to increase as new immigrants enter the United States from Asia and Latin America and the number of White evangelicals remains steady or even falls. But the extent and nature of the effects of evangelical identity on the political attitudes of growing numbers of Latinos and Asian Americans have not been studied systematically. This article aims to fill that gap by comparing the effects of evangelical identity on political attitudes across a range of groups to better address the conditional effects of religious identity on political orientations in an increasingly diverse context. The primary research question driving the study is does born-again identity play a consistent role across racial groups in determining political attitudes?",
     "accessed": {
      "day": 2,
      "month": 5,
      "year": 2019
     },
     "author": [
      {
       "family": "Wong",
       "given": "Janelle S."
      }
     ],
     "container-title": "Politics and Religion",
     "id": "6729717/RSG9VELQ",
     "issue": "4",
     "issued": {
      "month": 12,
      "year": 2015
     },
     "language": "en",
     "page": "641-678",
     "page-first": "641",
     "title": "The Role of Born-Again Identity on the Political Attitudes of Whites, Blacks, Latinos, and Asian Americans",
     "type": "article-journal",
     "volume": "8"
    },
    "6729717/Z8LYHY67": {
     "ISBN": "978-0-87154-893-1",
     "author": [
      {
       "family": "Wong",
       "given": "Janelle"
      }
     ],
     "call-number": "BR1642.U5 W654 2018",
     "event-place": "New York",
     "id": "6729717/Z8LYHY67",
     "issued": {
      "year": 2018
     },
     "number-of-pages": "142",
     "publisher": "Russell Sage Foundation",
     "publisher-place": "New York",
     "title": "Immigrants, evangelicals, and politics in an era of demographic change",
     "type": "book"
    }
   }
  },
  "kernelspec": {
   "display_name": "Python 3",
   "language": "python",
   "name": "python3"
  },
  "language_info": {
   "codemirror_mode": {
    "name": "ipython",
    "version": 3
   },
   "file_extension": ".py",
   "mimetype": "text/x-python",
   "name": "python",
   "nbconvert_exporter": "python",
   "pygments_lexer": "ipython3",
   "version": "3.5.6"
  }
 },
 "nbformat": 4,
 "nbformat_minor": 1
}
