{
 "cells": [
  {
   "cell_type": "markdown",
   "metadata": {},
   "source": [
    "# <center>Using Agent Based Models in Political Science </center>\n",
    "\n",
    "<center>by Shayla Olson</center>"
   ]
  },
  {
   "cell_type": "markdown",
   "metadata": {},
   "source": [
    "Agent-based modeling is used in political science as a way of simulating movement among individuals in order to understand how individual shifts affect larger systems. Most frequently, political scientists study the average outcome of interest; we look for the average vote, average treatment effect among a group, or the average change in trade, conflict, or polarization. However, sometimes we want to understand how individual shifts of actor attributes affect the total outcome. Agent-based modeling is usually used as a simulation and not with real data, and it is used as a computational substitute to formal modeling. For this reason, it is difficult for me to find applications for my research agenda, but I have provided a few examples in this report.\n",
    "\n",
    "Perhaps the most famous agent-based model in broader social science is the Schelling model (1971) of segregation. This model shows how slight changes in individual preferences for their living situation has larger effects on the full system. In this case, individuals who desire living with their same racial group cause entire neighborhoods to become segregated. In turn, segregation cannot end with simply a lack of segregated preferences, but instead an active desire to live in diverse communities. \n",
    "\n",
    "Another example of agent-based modeling in political science is understanding voting and voter preferences. Voters are not simple. They have multiple identities and placements in society based on their race, gender, socioeconomic status, geographical location, religion, interpersonal relationships, and much more. They also have political preferences. All of these characteristics could be at play when choosing a candidate. Shaffer and Weber (1976) use agent-based modeling to simulate electoral results based on changes in individual-level parameters. They include participation, partisanship, partisan salience, social pressure participation, and social preferences in order to understand how individuals weight their own preferences with those around them, since social pressure has political effects.\n",
    "\n",
    "Political scientists might also use agent-based modeling to simulate the formation of social networks. We might be interested in understanding how ties form between people, countries, rebel groups, social movements, or politicians. For example, we might be interested in how individual partisanship and electoral competition changes the amount of bill co-sponsorship in the U.S. Congress. Agent-based models could be easily applicable to understanding conflict. An example of this is Salehyan, Gleditsch, and Cunningham (2011), who explore what factors determine foreign support of rebel groups. They examine both characteristics of rebel groups and foreign groups and find that rebel group strength, transnational constituencies, and international rivalries are predictors of rebel group support. Although they do not use agent-based model for simulation, they do study actors in a manner that could be applicable to agent-based models. Social networks from agent-based models allow scholars to understand how groups separate and cluster together, and political scientists can also use this to understand partisan sorting. \n",
    "\n",
    "Agent-based modeling is useful for political science because it allows us to formalize and computationally examine individual changes within a larger system. However, they can be both too simply or too complex, and it can be difficult to examine a causal question from the models. In addition, simulation is not always as useful as raw data analysis. With the abundance of data available in the American politics context, agent-based models are not as common. Other fields of comparative politics and international relations are more likely to use them."
   ]
  },
  {
   "cell_type": "markdown",
   "metadata": {},
   "source": [
    "---\n",
    "# References\n",
    "\n",
    "Salehyan, Idean, Kristian Skrede Gleditsch, and David E. Cunningham. 2011. “Explaining External Support for Insurgent Groups.” International Organization 65(4): 709–44.\n",
    "\n",
    "\n",
    "Schelling, Thomas C. 1971. “Dynamic Models of Segregation.” The Journal of Mathematical Sociology 1(2): 143–86.\n",
    "\n",
    "\n",
    "Shaffer, William R., and Ronald E. Weber. 1976. “Computer Simulation of Voting: A Test of a Revised Model.” Political Methodology 3(2): 253–79."
   ]
  }
 ],
 "metadata": {
  "anaconda-cloud": {},
  "kernelspec": {
   "display_name": "Python 3",
   "language": "python",
   "name": "python3"
  },
  "language_info": {
   "codemirror_mode": {
    "name": "ipython",
    "version": 3
   },
   "file_extension": ".py",
   "mimetype": "text/x-python",
   "name": "python",
   "nbconvert_exporter": "python",
   "pygments_lexer": "ipython3",
   "version": "3.7.3"
  }
 },
 "nbformat": 4,
 "nbformat_minor": 1
}
