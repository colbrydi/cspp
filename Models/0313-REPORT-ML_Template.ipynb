{
 "cells": [
  {
   "cell_type": "markdown",
   "metadata": {},
   "source": [
    "# <center>Using Machine Learning (ML) in Political Science</center>\n",
    "\n",
    "<center>by Shayla Olson</center>"
   ]
  },
  {
   "cell_type": "markdown",
   "metadata": {},
   "source": [
    "Much like optimization, machine learning is widely used in political science. A vast majority of quantitative political science can be considered machine learning. For example, most models of observational and experimental data consist of optimizing parameters in a regression. One of the more exciting areas (to me) in political science is the use of machine learning in text analysis. While covering all the research that uses machine learning in political science would be a hefty task, this report serves as an opportunity to share how I can use machine learning in my own research. Specifically, I study the role of race in forming religious practices and how this ultimately affects political attitudes, as well as how resentment is mitigated or emboldened by churches. My larger dissertation project uses religious sermons to understand the political and racialized learning that occurs within churches. These sermon texts provide countless opportunities to implement machine learning in my research.\n",
    "\n",
    "The first necessary step in analyzing these texts is to understand what types of political content occurs. This can be done in a variety of ways, and I choose to start with topic modeling. Topic modeling is a machine learning technique that uncovers and underlying structure of text data. In my context, for example, I would expect most sermons would cover religious texts and that there would be topics of various religious values within the sermons. I would also expect that topic modeling would reveal how politics is either a separate topic of its own, or how it is incorporated into larger religious groupings. This unsupervised learning approach is useful, but supervised learning approaches provide other meaningful information.\n",
    "\n",
    "Second, it is important to understand the association between a church’s demographics and the political content of sermons. Dictionary-based methods will be a great first step in using supervised learning to classify sermons based on political content and meta-data. Using variables such as the denomination, race, and location of churches, I can predict the political content of sermons by training my model with a sample of my data with these known quantities. Next, I will use techniques such as wordscores to place sermons on scales of racial conservativism to racial progressivism. To do this, I first find two sermons on the extreme ends of this spectrum. Then, by using the score of each word in the extreme sermons, wordscores models scales the other sermons from this approach. Alternatively, I will use a naïve bayes classifying model to train my model on a series of extreme sermons labeled as such, in order to classify sermons as either political or not and as racially biased or not. \n",
    "\n",
    "Lastly, I am interested in the context around political messages in sermons. The first way to understand this is by using supervised machine learning models of dictionary approaches based on sentiment on sermons that have political content. However, this is a fairly high-level approach and does not get at the context surrounding the political content versus the larger sermon text. Word embeddings help with this issue. Word embeddings can use neural networks to classify words on multiple dimensions. I can use this approach to understand when political terms such as “welfare” are used in a supportive or negative sense, such as we might expect churches of different racial groups to have differing opinions on this topic. \n",
    "Political content in sermons is not a new concept, but only recently have political scientists thought to use machine learning techniques to further our understanding of politics in the church. Prior research relies on surveys of congregants to report the political content. Text methods allows us to examine actual content, and will move the field further in understanding the relationships between race, religion, and politics.\n"
   ]
  }
 ],
 "metadata": {
  "anaconda-cloud": {},
  "kernelspec": {
   "display_name": "Python 3",
   "language": "python",
   "name": "python3"
  },
  "language_info": {
   "codemirror_mode": {
    "name": "ipython",
    "version": 3
   },
   "file_extension": ".py",
   "mimetype": "text/x-python",
   "name": "python",
   "nbconvert_exporter": "python",
   "pygments_lexer": "ipython3",
   "version": "3.7.3"
  }
 },
 "nbformat": 4,
 "nbformat_minor": 1
}
