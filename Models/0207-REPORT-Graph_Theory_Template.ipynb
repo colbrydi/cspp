{
 "cells": [
  {
   "cell_type": "markdown",
   "metadata": {},
   "source": [
    "# <center>Using Graph Theory in Political Science</center>\n",
    "\n",
    "<center>by Shayla Olson</center>"
   ]
  },
  {
   "cell_type": "markdown",
   "metadata": {},
   "source": [
    "   The most common way that graph theory is implemented in political science is through social network analysis. Using network analysis is still fairly new in political science, but it has become rapidly popular and is an excellent method for answering political questions. First, I will discuss the ways in which network methods have been implemented in political science, such as through conflict studies, campaigns and elections, political communication, and policy diffusion. Then, I will share two ways in which I have implemented social network analysis in my own research, and my plans for taking these projects further.\n",
    "\n",
    "\n",
    "   Social network analysis is critical for accounting for the fact that in political science, our data often violates the i.i.d assumption of independent and identically distributed random variables. For example, in conflict studies, we often use dyadic data to represent an interaction between two actors. By its very nature, actors in dyadic data cannot exist independent from one another, because they would then not be included in the data. In Congress, we could study bill co-sponsorship through networks because we know that members of Congress do not exist independently and are reactive based on the happenings of their colleagues. Social network analysis allows us to account for dependencies in the data such as reciprocity between two actors, clusters of actors, and frequent or infrequent actors. For example, scholars have accounted for these dependencies to study international actor cooperation, rebel force alliances, and civil war actor behavior (Gade et al. 2019; Gade, Hafez, and Gabbay 2019; Kinne 2013; Metternich et al. 2013). Other scholars have used social network analysis to understand how networks of individuals actually affect candidate support and electoral success (Desmarais, Raja, and Kowal 2015). There is growing work in understanding the social ties between the public and how this is consequential for political attitudes and behavior (Klofstad, Sokhey, and McClurg 2013; Marsden 1987). One notable example of this was a large-scale experiment implemented via Facebook on millions of Americans. The authors tested how social pressure changes voting behavior, and find that public pledges of voting can increase voting (Bond et al. 2012). Other political scientists take time to develop methods that can help us better utilize networks within social science (Minhas, Hoff, and Ward 2016).\n",
    "    \n",
    "    \n",
    "   In my own work, I have used social network analysis to understand policy diffusion and relations between U.S. states. Last summer I started and now  I continue to manage the State Networks database through the Institute for Public Policy and Social Research (IPPSR) at Michigan State. The State Networks database features multiple variables including social, geographical, economic, political, and policy ties between states. I feature some of this dataset in my blog post on IPPSR’s Michigan Policy Wonk blog (Olson 2019). There, I show how the Midwestern states are connected through airline flights, migration, and trade. I am continuing my work with the State Networks database through a working paper on policy diffusion networks. Using latent policy diffusion ties from Boehmke et al. (2019), which is a measure of how states share legislation with one another. I am exploring what sorts of variables predict policy diffusion between states. Is it economic (trade) relations, political similarity, demographic similarity, or something else? I also account for network structures that I mentioned previously, such as reciprocity and centrality to understand policy diffusion between state legislatures. In a separate project very unrelated to state policy, I use networks to study how political scientists are connected to one another. In political science articles published in top journals, I gather and code the acknowledgements that scholars make. I explore the gender, institutional rank, and citations for each acknowledgement to better understand the characteristics of scholars who are publishing in top journals. I am continuing this project by exploring the differences between acknowledgement patterns in top journals versus those in lower tier journals."
   ]
  },
  {
   "cell_type": "markdown",
   "metadata": {},
   "source": [
    "---\n",
    "# References\n",
    "\n",
    "Boehmke, Frederick et al. 2019. “State Diffusion Networks - Latent Network Ties from SPID v1.0.” https://dataverse.harvard.edu/citation?persistentId=doi:10.7910/DVN/1QJCDJ (July 4, 2019).\n",
    "\n",
    "Bond, Robert M. et al. 2012. “A 61-Million-Person Experiment in Social Influence and Political Mobilization.” Nature 489(7415): 295–98.\n",
    "\n",
    "Desmarais, Bruce A., Raymond J. La Raja, and Michael S. Kowal. 2015. “The Fates of Challengers in U.S. House Elections: The Role of Extended Party Networks in Supporting Candidates and Shaping Electoral Outcomes.” American Journal of Political Science 59(1): 194–211.\n",
    "\n",
    "Gade, Emily Kalah, Michael Gabbay, Mohammed M. Hafez, and Zane Kelly. 2019. “Networks of Cooperation: Rebel Alliances in Fragmented Civil Wars.” Journal of Conflict Resolution: 002200271982623.\n",
    "\n",
    "Gade, Emily Kalah, Mohammed M Hafez, and Michael Gabbay. 2019. “Fratricide in Rebel Movements: A Network Analysis of Syrian Militant Infighting.” Journal of Peace Research: 002234331880694.\n",
    "\n",
    "Kinne, Brandon J. 2013. “Network Dynamics and the Evolution of International Cooperation.” American Political Science Review 107(4): 766–85.\n",
    "\n",
    "Klofstad, Casey A., Anand Edward Sokhey, and Scott D. McClurg. 2013. “Disagreeing about Disagreement: How Conflict in Social Networks Affects Political Behavior: HOW CONFLICT IN SOCIAL NETWORKS AFFECTS POLITICAL BEHAVIOR.” American Journal of Political Science 57(1): 120–34.\n",
    "\n",
    "Marsden, Peter V. 1987. “Core Discussion Networks of Americans.” American Sociological Review 52(1): 122–31.\n",
    "\n",
    "Metternich, Nils W. et al. 2013. “Antigovernment Networks in Civil Conflicts: How Network Structures Affect Conflictual Behavior: GAMES ON NETWORKS.” American Journal of Political Science: n/a-n/a.\n",
    "\n",
    "Minhas, Shahryar, Peter D. Hoff, and Michael D. Ward. 2016. “Inferential Approaches for Network Analyses: AMEN for Latent Factor Models.” arXiv:1611.00460 [stat]. http://arxiv.org/abs/1611.00460 (April 17, 2019).\n",
    "\n",
    "Olson, Shayla. 2019. “Midwest Relations | IPPSR.” http://ippsr.msu.edu/public-policy/michigan-wonk-blog/midwest-relations (February 7, 2020)."
   ]
  }
 ],
 "metadata": {
  "anaconda-cloud": {},
  "kernelspec": {
   "display_name": "Python 3",
   "language": "python",
   "name": "python3"
  },
  "language_info": {
   "codemirror_mode": {
    "name": "ipython",
    "version": 3
   },
   "file_extension": ".py",
   "mimetype": "text/x-python",
   "name": "python",
   "nbconvert_exporter": "python",
   "pygments_lexer": "ipython3",
   "version": "3.7.3"
  }
 },
 "nbformat": 4,
 "nbformat_minor": 1
}
