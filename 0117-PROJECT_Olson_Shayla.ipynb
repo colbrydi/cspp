{
 "cells": [
  {
   "cell_type": "markdown",
   "metadata": {},
   "source": [
    "# <center>  Correlates of State Policy Project </center>\n",
    "\n",
    "<center>By Shayla Olson</center>"
   ]
  },
  {
   "cell_type": "markdown",
   "metadata": {},
   "source": [
    "<img src=\"https://int.nyt.com/chartmaker/2016/10/18/20160909-fipsmarginbugbugbugbugbu/5/artboard-945px.png\" width=\"80%\">\n",
    "<p style=\"text-align: right;\">Image from: https://int.nyt.com/chartmaker/</p>"
   ]
  },
  {
   "cell_type": "markdown",
   "metadata": {},
   "source": [
    "---\n",
    "# Overview\n",
    "\n",
    "_\"The Correlates of State Policy Project aims to compile, disseminate, and encourage the use of data relevant to U.S. state policy research, tracking policy differences across the 50 states and changes over time. We have gathered more than 900 variables from various sources and assembled them into one large, useful dataset. We hope this project will become a “one-stop shop” for academics, policy analysts, students, and researchers looking for variables germane to the study of state policies and politics.\"_ - IPPSR, MSU\n",
    "\n",
    "<a href=\"http://ippsr.msu.edu/public-policy/correlates-state-policy\">The Correlates of State Policy Project</a> is a large data collection effort by the Institute for Public Policy and Social Research at Michigan State. It has resulted in a large, multi-year data set of various political, social, demographical, and economic variables measured at the state level. The Correlates project is headed by Marty Jordan and Matt Grossmann, two professors in the Political Science Department at MSU. From the Correlates project comes <a href=\"http://ippsr.msu.edu/public-policy/state-networks\">The State Networks</a> data project, which I lead through my affiliation with IPPSR as a Student Fellow. \n",
    "\n",
    "The data used in both of these projects is cited in over 40 political science papers, and the IPPSR team is continuously looking for ways to improve and add to the data, as well as make the data more accessible for its users. My goal this semester is to create a Python/R package and GitHub repository for Correlates of State Policy Project."
   ]
  },
  {
   "cell_type": "markdown",
   "metadata": {},
   "source": [
    "---\n",
    "# Program Description\n",
    "\n",
    "Ideally, this project will involve creating an R package that holds the Correlates data and some canned models that users can quickly perform. Not only will this package be useful for teams hoping to publish work using this data, but it can also be used in the classroom setting, particularly for social science methods courses. Because the CMSE program uses Python, I will also create a Python interface, and hopefully port it to R as a large component of my semester project. Then, the GitHub will host these packages and some examples for how the data can be used. IPPSR will use these developments to better understand how the data is being used, so that we can improve upon the data and accessibility in the future. Although this work will be done for IPPSR, it will be my project and my responsibility as a Student Fellow.\n",
    "\n",
    "In addition to the Python/R packages and GitHub, I expect that I will collect and clean data for the Correlates and State Networks projects as a whole. I will likely start with the data collection, and from there I will create some models that can be used by a broad group of scholars."
   ]
  },
  {
   "cell_type": "markdown",
   "metadata": {},
   "source": [
    "---\n",
    "# Project Goals and Timeline\n",
    "\n",
    "- 1/17/2020 - Proposal Due (DONE)\n",
    "- 1/21/2020 - Meet with IPPSR team to plan their goals for this project\n",
    "- 1/24/2020 - Send data collection proposal to IPPSR for approval\n",
    "- 1/31/2020 - Send model proposal to IPPSR for approval\n",
    "- 1/31/2020 - Project git repository and structure due\n",
    "- 2/14/2020 - Stub functions and Example code integration (With documentation)\n",
    "- 2/28/2020 - Coding standers and Unit Test integrated into project\n",
    "- 3/1/2020 - Spring break week\n",
    "- 3/10/2020 - Draft of models and general update to IPPSR\n",
    "- 3/20/2020 - Present State Networks data/model portion to State Policy and Politics conference\n",
    "- 3/20/2020 - Code Draft (Code Review 1) \n",
    "- 4/3/2020 - Code Draft (Code Review 2) \n",
    "- 4/20/2020 - Final Project and Presentation Due\n",
    "\n"
   ]
  },
  {
   "cell_type": "markdown",
   "metadata": {},
   "source": [
    "---\n",
    "# Anticipating Challenges  \n",
    "\n",
    "As an IPPSR Student Fellow, my work will fulfill the requirements for this course but may change depending on their needs throughout the semester. For example, I currently plan on integrating both the State Networks and Correlates data, but IPPSR may only want the Correlates data. This project is unique because it will be directly applicable and used shortly after this course. I will have a better idea of their needs after the meeting on 1/21/2020.\n",
    "\n",
    "I will need to learn how to port packages from Python to R. I also need to learn how to build a professional GitHub, as this will likely be hosted on my personal (but professional) GitHub. Because the majority of Political Scientists are R users and not Python users, it is crucial that it is working and well-maintained in R."
   ]
  }
 ],
 "metadata": {
  "anaconda-cloud": {},
  "kernelspec": {
   "display_name": "Python 3",
   "language": "python",
   "name": "python3"
  },
  "language_info": {
   "codemirror_mode": {
    "name": "ipython",
    "version": 3
   },
   "file_extension": ".py",
   "mimetype": "text/x-python",
   "name": "python",
   "nbconvert_exporter": "python",
   "pygments_lexer": "ipython3",
   "version": "3.7.3"
  }
 },
 "nbformat": 4,
 "nbformat_minor": 1
}
